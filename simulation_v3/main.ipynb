from uplink_v2 import uplink
import numpy as np
import matplotlib.pyplot as plt
from scipy import signal
from downlink import downlink

fc = 6.5e3
# Design with one tx (AWGN LOS), then with tx + reflect
uplink_1 = uplink(6.5e3, 1, 1, 1)
uplink_1.reflection_list = np.array([1])
uplink_1.x_tx_list = np.array([5])
uplink_1.y_tx_list = np.array([5])

uplink_2 = uplink(6.5e3, 2, 1, 1) #still unclear on that second variable
uplink_2.reflection_list = np.array([1,0.5])
uplink_2.x_tx_list = np.array([5,15])
uplink_2.y_tx_list = np.array([5,5])

theta_bf_1, wk_1, S_theta_1 = uplink_1.simulation()
theta_bf_2, wk_2, S_theta_2 = uplink_2.simulation()

# S_theta Plots
plt.figure(1)
f, (ax1,ax2) = plt.subplots(2,1,layout='constrained')
ax1.plot(np.linspace(-90,90,len(S_theta_1)), S_theta_1)
plt.xlabel('angle (deg)')
plt.ylabel('value')
ax1.set_title('Channel Response, No Reflect')
ax2.plot(np.linspace(-90,90,len(S_theta_2)), S_theta_2)
ax2.set_title('Channel Response, Reflect')
plt.show()

plt.figure(2)
f, (ax1,ax2) = plt.subplots(2,1,layout='constrained')
xcor = np.abs(signal.fftconvolve(uplink_1.mean_v, sg.resample_poly(uplink_1.preamble[::-1].conj(),uplink_1.nsps,1)))
ax1.plot(xcor) #[0:2000])
xcor = np.abs(signal.fftconvolve(uplink_2.mean_v, sg.resample_poly(uplink_2.preamble[::-1].conj(),uplink_2.nsps,1)))
ax2.plot(xcor) #[0:2000])
ax1.set_title('XCorr for no BF, No Reflect')
ax2.set_title('XCorr for no BF, Reflect')

# run this 4 times -> no bf, no reflect; no bf, reflect; bf, no reflect; bf, reflect;
downlink_nobf_1 = downlink(6.5e3, 1, 1, theta=theta_bf_1, wk=wk_1, apply_bf=False)
downlink_nobf_1.reflection_list = np.array([1])
downlink_nobf_1.x_rx_list = np.array([5])
downlink_nobf_1.y_rx_list = np.array([5])
downlink_nobf_1.simulation()
mse_no_bf_1 = downlink_nobf_1.mean_mse
symbolset_no_bf_1 = downlink_nobf_1.mean_symbols[-1,:]
v_no_bf_1 = downlink_nobf_1.mean_v

downlink_nobf_2 = downlink(6.5e3, 1, 1, theta=theta_bf_1, wk=wk_1, apply_bf=False) #should you change the 2nd variable?
downlink_nobf_2.reflection_list = np.array([1,0.5])
downlink_nobf_2.x_rx_list = np.array([5,15])
downlink_nobf_2.y_rx_list = np.array([5,5])
downlink_nobf_2.simulation()
mse_no_bf_2 = downlink_nobf_2.mean_mse
symbolset_no_bf_2 = downlink_nobf_2.mean_symbols[-1,:]
v_no_bf_2 = downlink_nobf_2.mean_v

downlink_bf_1 = downlink(6.5e3, 1, 1, theta=theta_bf_1, wk=wk_1, apply_bf=True)
downlink_bf_1.reflection_list = np.array([1])
downlink_bf_1.x_rx_list = np.array([5])
downlink_bf_1.y_rx_list = np.array([5])
downlink_bf_1.simulation()
mse_bf_1 = downlink_bf_1.mean_mse
symbolset_bf_1 = downlink_bf_1.mean_symbols[-1,:]
v_bf_1 = downlink_bf_1.mean_v

downlink_bf_2 = downlink(6.5e3, 1, 1, theta=theta_bf_2, wk=wk_2, apply_bf=True)
downlink_bf_2.reflection_list = np.array([1,0.5])
downlink_bf_2.x_rx_list = np.array([5,15])
downlink_bf_2.y_rx_list = np.array([5,5])
downlink_bf_2.simulation()
mse_bf_2 = downlink_bf_2.mean_mse
symbolset_bf_2 = downlink_bf_2.mean_symbols[-1,:]
v_bf_2 = downlink_bf_2.mean_v

# equalizer taps
true_sym = np.reshape(np.tile(np.arange(-3,4,2),4),(4,4)) + 1j*np.reshape(np.repeat(np.arange(3,-4,-2),4),(4,4))

# SNR/MSE Plots
plt.figure(2)
f, (ax1,ax2) = plt.subplots(2,1,layout='constrained')
ax1.plot(downlink_nobf_1.snr_list, mse_no_bf_1, 'x')
ax1.plot(downlink_bf_1.snr_list, mse_bf_1, 'o')
plt.legend (['No BF', 'BF'])
plt.xlabel('SNR (dB)')
plt.ylabel('MSE (dB)')
ax1.set_title('MSE for Downlink Beamformer, No Reflect')
ax2.plot(downlink_nobf_2.snr_list, mse_no_bf_2, 'x')
ax2.plot(downlink_bf_2.snr_list, mse_bf_2, 'o')
ax2.set_title('MSE for Downlink Beamformer, Reflect')
plt.show


# xcorr graphs

plt.figure(4)
f, (ax1,ax2) = plt.subplots(2,1,layout='constrained')
xcor = np.abs(signal.fftconvolve(downlink_nobf_1.mean_v, sg.resample_poly(downlink_nobf_1.preamble[::-1].conj(),downlink_nobf_1.nsps,1)))
ax1.plot(xcor) #[0:2000])
xcor = np.abs(signal.fftconvolve(downlink_nobf_2.mean_v, sg.resample_poly(downlink_nobf_2.preamble[::-1].conj(),downlink_nobf_2.nsps,1)))
ax2.plot(xcor) #[0:2000])
ax1.set_title('XCorr for no BF, No Reflect')
ax2.set_title('XCorr for no BF, Reflect')

plt.figure(5)
f, (ax1,ax2) = plt.subplots(2,1,layout='constrained')
xcor = np.abs(signal.fftconvolve(downlink_bf_1.mean_v,sg.resample_poly(downlink_bf_1.preamble[::-1].conj(),downlink_bf_1.nsps,1)))
ax1.plot(xcor) #[0:2000])
xcor = np.abs(signal.fftconvolve(downlink_bf_2.mean_v,sg.resample_poly(downlink_bf_2.preamble[::-1].conj(),downlink_bf_2.nsps,1)))
ax2.plot(xcor) #[0:2000])
ax1.set_title('XCorr for BF, No Reflect')
ax2.set_title('XCorr for BF, Reflect')

# plot element spacing for downlink and MSE for 10 dB
d = np.arange(0.005*(1+np.arange(20)))
mse_bf_d = np.zeros_like(d)
for i in range(10):
    d0 = d[i]
    downlink_bf_d = downlink(6.5e3, 1, 5, theta=theta_bf_2, wk=wk_2, apply_bf=True)
    downlink_bf_d.d0 = d0
    downlink_bf_d.reflection_list = np.array([1])
    downlink_bf_d.x_rx_list = np.array([5])
    downlink_bf_d.y_rx_list = np.array([5])
    downlink_bf_d.simulation()
    mse_bf_d[i] = downlink_bf_d.mean_mse


plt.figure()
plt.plot(d, mse_bf_d, 'x')
plt.xlabel('Element Spacing (m)')
plt.ylabel('MSE (dB)')
plt.title(f'Element Spacing vs. MSE at 15 dB for fc={fc/1000:.1f}kHz')
plt.show()


"""
fig,ax = plt.subplots()
ax.scatter(np.real(symbolset_no_bf_2), np.imag(symbolset_no_bf_2), c='r', marker='x')
ax.scatter(np.real(symbolset_bf_2), np.imag(symbolset_bf_2), c='g', marker='x')
ax.scatter(np.real(true_sym), np.imag(true_sym), c='b',marker='o')
ax.legend(['RX DL, no BF', 'RX DL, BF','16QAM Constellation Points'])
ax.set_ylim(-4, 4)
ax.set_xlim(-4,4)
ax.set_title("Constellation Diagram for SNR=15dB")
plt.show()
"""
