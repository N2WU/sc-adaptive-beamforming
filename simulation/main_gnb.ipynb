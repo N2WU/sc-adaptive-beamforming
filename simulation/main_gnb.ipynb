{
 "cells": [
  {
   "cell_type": "code",
   "execution_count": 1,
   "metadata": {},
   "outputs": [
    {
     "name": "stdout",
     "output_type": "stream",
     "text": [
      "SNR=0dB\n"
     ]
    },
    {
     "name": "stderr",
     "output_type": "stream",
     "text": [
      "  0%|          | 0/5 [00:00<?, ?it/s]\n"
     ]
    },
    {
     "ename": "OverflowError",
     "evalue": "Python int too large to convert to C long",
     "output_type": "error",
     "traceback": [
      "\u001b[1;31m---------------------------------------------------------------------------\u001b[0m",
      "\u001b[1;31mOverflowError\u001b[0m                             Traceback (most recent call last)",
      "\u001b[1;32mc:\\Users\\Nolan\\Documents\\GitHub\\sc-adaptive-beamforming\\simulation\\main_gnb.ipynb Cell 1\u001b[0m line \u001b[0;36m1\n\u001b[0;32m     <a href='vscode-notebook-cell:/c%3A/Users/Nolan/Documents/GitHub/sc-adaptive-beamforming/simulation/main_gnb.ipynb#W0sZmlsZQ%3D%3D?line=14'>15</a>\u001b[0m My_bf\u001b[39m.\u001b[39my_tx_list \u001b[39m=\u001b[39m np\u001b[39m.\u001b[39marray([\u001b[39m5\u001b[39m,\u001b[39m5\u001b[39m,\u001b[39m5\u001b[39m,\u001b[39m5\u001b[39m])\n\u001b[0;32m     <a href='vscode-notebook-cell:/c%3A/Users/Nolan/Documents/GitHub/sc-adaptive-beamforming/simulation/main_gnb.ipynb#W0sZmlsZQ%3D%3D?line=16'>17</a>\u001b[0m \u001b[39m# rethink with this math\u001b[39;00m\n\u001b[1;32m---> <a href='vscode-notebook-cell:/c%3A/Users/Nolan/Documents/GitHub/sc-adaptive-beamforming/simulation/main_gnb.ipynb#W0sZmlsZQ%3D%3D?line=18'>19</a>\u001b[0m theta \u001b[39m=\u001b[39m My_bf\u001b[39m.\u001b[39;49msimulation()\n\u001b[0;32m     <a href='vscode-notebook-cell:/c%3A/Users/Nolan/Documents/GitHub/sc-adaptive-beamforming/simulation/main_gnb.ipynb#W0sZmlsZQ%3D%3D?line=20'>21</a>\u001b[0m My_ue \u001b[39m=\u001b[39m tx_gnb_sim(\u001b[39m6.5e3\u001b[39m, \u001b[39m2\u001b[39m, \u001b[39m5\u001b[39m, theta)\n\u001b[0;32m     <a href='vscode-notebook-cell:/c%3A/Users/Nolan/Documents/GitHub/sc-adaptive-beamforming/simulation/main_gnb.ipynb#W0sZmlsZQ%3D%3D?line=21'>22</a>\u001b[0m \u001b[39m# do not assume independence\u001b[39;00m\n",
      "File \u001b[1;32mc:\\Users\\Nolan\\Documents\\GitHub\\sc-adaptive-beamforming\\simulation\\bf_multichannel.py:166\u001b[0m, in \u001b[0;36mbf_multichannel.simulation\u001b[1;34m(self)\u001b[0m\n\u001b[0;32m    164\u001b[0m     S_M \u001b[39m=\u001b[39m np\u001b[39m.\u001b[39mexp(\u001b[39m-\u001b[39m\u001b[39m2\u001b[39mj \u001b[39m*\u001b[39m np\u001b[39m.\u001b[39mpi \u001b[39m*\u001b[39m d_tau \u001b[39m*\u001b[39m np\u001b[39m.\u001b[39mdot(fk\u001b[39m.\u001b[39mreshape(N, \u001b[39m1\u001b[39m), np\u001b[39m.\u001b[39marange(\u001b[39mself\u001b[39m\u001b[39m.\u001b[39mM)\u001b[39m.\u001b[39mreshape(\u001b[39m1\u001b[39m, \u001b[39mself\u001b[39m\u001b[39m.\u001b[39mM)))    \u001b[39m# N*M\u001b[39;00m\n\u001b[0;32m    165\u001b[0m     SMxYk \u001b[39m=\u001b[39m np\u001b[39m.\u001b[39meinsum(\u001b[39m'\u001b[39m\u001b[39mij,ji->i\u001b[39m\u001b[39m'\u001b[39m, S_M\u001b[39m.\u001b[39mconj(), yk\u001b[39m.\u001b[39mT)\n\u001b[1;32m--> 166\u001b[0m     S_theta[n_theta] \u001b[39m=\u001b[39m np\u001b[39m.\u001b[39mreal(np\u001b[39m.\u001b[39mvdot(SMxYk, SMxYk))\n\u001b[0;32m    168\u001b[0m S_theta_peaks_idx, _ \u001b[39m=\u001b[39m sg\u001b[39m.\u001b[39mfind_peaks(S_theta, height\u001b[39m=\u001b[39m\u001b[39m0\u001b[39m)\n\u001b[0;32m    169\u001b[0m S_theta_peaks \u001b[39m=\u001b[39m S_theta[S_theta_peaks_idx]\n",
      "\u001b[1;31mOverflowError\u001b[0m: Python int too large to convert to C long"
     ]
    }
   ],
   "source": [
    "from bf_multichannel import bf_multichannel\n",
    "from tx_gnb_sim import tx_gnb_sim\n",
    "import numpy as np\n",
    "import matplotlib.pyplot as plt\n",
    "\n",
    "# fc = 6.5kHz\n",
    "n_UE = 2\n",
    "# n_path = 2?\n",
    "My_bf = bf_multichannel(6.5e3, 2, 5,n_UE)\n",
    "# rx at (0,0)\n",
    "# tx_1 at (5,5) and (7.5,5) with a wall at x=10\n",
    "# after relection, tx_2 at (15,5) and (12.5,5)\n",
    "My_bf.reflection_list = np.array([1,0.5]) # what does reflection_list accomplish?\n",
    "My_bf.x_tx_list = np.array([5,15,7.5,12.5])\n",
    "My_bf.y_tx_list = np.array([5,5,5,5])\n",
    "\n",
    "# rethink with this math\n",
    "\n",
    "theta = My_bf.simulation()\n",
    "\n",
    "My_ue = tx_gnb_sim(6.5e3, 2, 5, theta)\n",
    "# do not assume independence\n",
    "My_ue.reflection_list = np.array([1,0.5])\n",
    "#My_ue.x_tx_list = np.array([5,15]) #shouldn't need to touch gnb location\n",
    "#My_ue.y_tx_list = np.array([5,5]) #shouldn't need to touch gnb location\n",
    "My_ue.x_rx_list = My_bf.x_tx_list\n",
    "My_ue.y_rx_list = My_bf.y_tx_list\n",
    "\n",
    "# plt mean square error\n",
    "\n",
    "for i_UE in range(0,n_UE):\n",
    "    plt.figure(i_UE)\n",
    "    plt.plot(My_ue.snr_list, My_ue.mean_mse, 'o')\n",
    "    plt.xlabel('SNR(dB)')\n",
    "    plt.ylabel('mse(dB)')\n",
    "    plt.title(f'fc={My_bf.fc/1000:.1f}kHz, UE={i_UE}')\n",
    "\n",
    "plt.show()"
   ]
  }
 ],
 "metadata": {
  "kernelspec": {
   "display_name": "base",
   "language": "python",
   "name": "python3"
  },
  "language_info": {
   "codemirror_mode": {
    "name": "ipython",
    "version": 3
   },
   "file_extension": ".py",
   "mimetype": "text/x-python",
   "name": "python",
   "nbconvert_exporter": "python",
   "pygments_lexer": "ipython3",
   "version": "3.9.10"
  },
  "orig_nbformat": 4
 },
 "nbformat": 4,
 "nbformat_minor": 2
}
