{
 "cells": [
  {
   "cell_type": "code",
   "execution_count": 1,
   "metadata": {},
   "outputs": [
    {
     "name": "stdout",
     "output_type": "stream",
     "text": [
      "SNR=0dB\n"
     ]
    },
    {
     "name": "stderr",
     "output_type": "stream",
     "text": [
      "  0%|          | 0/5 [00:00<?, ?it/s]c:\\Users\\Nolan\\AppData\\Local\\Programs\\Python\\Python39\\lib\\site-packages\\scipy\\signal\\_peak_finding.py:261: ComplexWarning: Casting complex values to real discards the imaginary part\n",
      "  value = np.asarray(value, order='C', dtype=np.float64)\n",
      "100%|██████████| 5/5 [00:29<00:00,  5.97s/it]\n"
     ]
    },
    {
     "name": "stdout",
     "output_type": "stream",
     "text": [
      "SNR=1dB\n"
     ]
    },
    {
     "name": "stderr",
     "output_type": "stream",
     "text": [
      "100%|██████████| 5/5 [00:32<00:00,  6.41s/it]\n"
     ]
    },
    {
     "name": "stdout",
     "output_type": "stream",
     "text": [
      "SNR=2dB\n"
     ]
    },
    {
     "name": "stderr",
     "output_type": "stream",
     "text": [
      "100%|██████████| 5/5 [00:32<00:00,  6.47s/it]\n"
     ]
    },
    {
     "name": "stdout",
     "output_type": "stream",
     "text": [
      "SNR=3dB\n"
     ]
    },
    {
     "name": "stderr",
     "output_type": "stream",
     "text": [
      "100%|██████████| 5/5 [00:29<00:00,  5.99s/it]\n"
     ]
    },
    {
     "name": "stdout",
     "output_type": "stream",
     "text": [
      "SNR=4dB\n"
     ]
    },
    {
     "name": "stderr",
     "output_type": "stream",
     "text": [
      "100%|██████████| 5/5 [00:29<00:00,  5.85s/it]\n"
     ]
    },
    {
     "data": {
      "image/png": "[encoded data removed]",
      "text/plain": [
       "<Figure size 640x480 with 1 Axes>"
      ]
     },
     "metadata": {},
     "output_type": "display_data"
    }
   ],
   "source": [
    "from bf_multichannel import bf_multichannel\n",
    "from tx_gnb_sim import tx_gnb_sim\n",
    "import numpy as np\n",
    "import matplotlib.pyplot as plt\n",
    "\n",
    "# fc = 6.5kHz\n",
    "n_UE = 1 # 2\n",
    "# n_path = 2?\n",
    "My_bf = bf_multichannel(6.5e3, 2, 5,n_UE)\n",
    "# rx at (0,0)\n",
    "# tx_1 at (5,5) and (7.5,5) with a wall at x=10\n",
    "# after relection, tx_2 at (15,5) and (12.5,5)\n",
    "My_bf.reflection_list = np.array([1,0.5]) # what does reflection_list accomplish?\n",
    "My_bf.x_tx_list = np.array([5,15])\n",
    "My_bf.y_tx_list = np.array([5,5])\n",
    "#My_bf.reflection_list = np.array([1,0.5]) # what does reflection_list accomplish?\n",
    "#My_bf.x_tx_list = np.array([5,15,7.5,12.5])\n",
    "#My_bf.y_tx_list = np.array([5,5,5,5])\n",
    "\n",
    "# rethink with this math\n",
    "\n",
    "theta = My_bf.simulation()\n",
    "\n",
    "My_ue = tx_gnb_sim(6.5e3, 2, 5, theta)\n",
    "# do not assume independence\n",
    "My_ue.reflection_list = np.array([1,0.5])\n",
    "#My_ue.x_tx_list = np.array([5,15]) #shouldn't need to touch gnb location\n",
    "#My_ue.y_tx_list = np.array([5,5]) #shouldn't need to touch gnb location\n",
    "My_ue.x_rx_list = My_bf.x_tx_list\n",
    "My_ue.y_rx_list = My_bf.y_tx_list\n",
    "\n",
    "# plt mean square error\n",
    "print(theta)\n",
    "for i_UE in range(0,n_UE):\n",
    "    plt.figure(i_UE)\n",
    "    plt.plot(My_ue.snr_list, My_ue.mean_mse[:,i_UE], 'o')\n",
    "    plt.xlabel('SNR(dB)')\n",
    "    plt.ylabel('mse(dB)')\n",
    "    plt.title(f'fc={My_bf.fc/1000:.1f}kHz, UE={i_UE}')\n",
    "\n",
    "plt.show()"
   ]
  }
 ],
 "metadata": {
  "kernelspec": {
   "display_name": "base",
   "language": "python",
   "name": "python3"
  },
  "language_info": {
   "codemirror_mode": {
    "name": "ipython",
    "version": 3
   },
   "file_extension": ".py",
   "mimetype": "text/x-python",
   "name": "python",
   "nbconvert_exporter": "python",
   "pygments_lexer": "ipython3",
   "version": "3.9.10"
  },
  "orig_nbformat": 4
 },
 "nbformat": 4,
 "nbformat_minor": 2
}
