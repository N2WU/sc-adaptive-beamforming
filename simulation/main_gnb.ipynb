{
 "cells": [
  {
   "cell_type": "code",
   "execution_count": 1,
   "metadata": {},
   "outputs": [
    {
     "ename": "SyntaxError",
     "evalue": "invalid syntax (tx_gnb_sim.py, line 162)",
     "output_type": "error",
     "traceback": [
      "Traceback \u001b[1;36m(most recent call last)\u001b[0m:\n",
      "\u001b[0m  File \u001b[0;32m~\\AppData\\Roaming\\Python\\Python39\\site-packages\\IPython\\core\\interactiveshell.py:3508\u001b[0m in \u001b[0;35mrun_code\u001b[0m\n    exec(code_obj, self.user_global_ns, self.user_ns)\u001b[0m\n",
      "\u001b[1;36m  Cell \u001b[1;32mIn[1], line 2\u001b[1;36m\n\u001b[1;33m    from tx_gnb_sim import tx_gnb_sim\u001b[1;36m\n",
      "\u001b[1;36m  File \u001b[1;32mc:\\Users\\Nolan\\Documents\\GitHub\\sc-adaptive-beamforming\\simulation\\tx_gnb_sim.py:162\u001b[1;36m\u001b[0m\n\u001b[1;33m    if len(delay) > 1\u001b[0m\n\u001b[1;37m                     ^\u001b[0m\n\u001b[1;31mSyntaxError\u001b[0m\u001b[1;31m:\u001b[0m invalid syntax\n"
     ]
    }
   ],
   "source": [
    "from bf_multichannel import bf_multichannel\n",
    "from tx_gnb_sim import tx_gnb_sim\n",
    "import numpy as np\n",
    "import matplotlib.pyplot as plt\n",
    "\n",
    "# fc = 6.5kHz\n",
    "n_UE = 1 # 2\n",
    "# n_path = 2?\n",
    "My_bf = bf_multichannel(6.5e3, 2, 5,n_UE)\n",
    "# rx at (0,0)\n",
    "# tx_1 at (5,5) and (7.5,5) with a wall at x=10\n",
    "# after relection, tx_2 at (15,5) and (12.5,5)\n",
    "My_bf.reflection_list = np.array([1,0.5]) # what does reflection_list accomplish?\n",
    "My_bf.x_tx_list = np.array([5,15])\n",
    "My_bf.y_tx_list = np.array([5,5])\n",
    "#My_bf.reflection_list = np.array([1,0.5]) # what does reflection_list accomplish?\n",
    "#My_bf.x_tx_list = np.array([5,15,7.5,12.5])\n",
    "#My_bf.y_tx_list = np.array([5,5,5,5])\n",
    "\n",
    "# rethink with this math\n",
    "\n",
    "theta = My_bf.simulation()\n",
    "\n",
    "My_ue = tx_gnb_sim(6.5e3, 1, 1, theta)\n",
    "# do not assume independence\n",
    "My_ue.reflection_list = np.array([1,0.5])\n",
    "#My_ue.x_tx_list = np.array([5,15]) #shouldn't need to touch gnb location\n",
    "#My_ue.y_tx_list = np.array([5,5]) #shouldn't need to touch gnb location\n",
    "My_ue.x_rx_list = My_bf.x_tx_list\n",
    "My_ue.y_rx_list = My_bf.y_tx_list\n",
    "\n",
    "\"\"\"\n",
    "plt.figure()\n",
    "plt.plot(My_bf.snr_list, My_bf.mean_mse, 'o')\n",
    "plt.xlabel('SNR(dB)')\n",
    "plt.ylabel('mse(dB)')\n",
    "plt.title(f'fc={My_bf.fc/1000:.1f}kHz')\n",
    "plt.show()\n",
    "\"\"\"\n",
    "\n",
    "My_ue.simulation()\n",
    "\n",
    "# plt mean square error\n",
    "print(theta)\n",
    "print(My_ue.MSE_SNR)\n",
    "for i_UE in range(0,n_UE):\n",
    "    plt.figure(i_UE)\n",
    "    plt.plot(My_ue.snr_list, My_ue.mean_mse[:,i_UE], 'o')\n",
    "    plt.xlabel('SNR(dB)')\n",
    "    plt.ylabel('mse(dB)')\n",
    "    plt.title(f'fc={My_bf.fc/1000:.1f}kHz, UE_ID={i_UE}')\n",
    "\n",
    "plt.show()"
   ]
  }
 ],
 "metadata": {
  "kernelspec": {
   "display_name": "base",
   "language": "python",
   "name": "python3"
  },
  "language_info": {
   "codemirror_mode": {
    "name": "ipython",
    "version": 3
   },
   "file_extension": ".py",
   "mimetype": "text/x-python",
   "name": "python",
   "nbconvert_exporter": "python",
   "pygments_lexer": "ipython3",
   "version": "3.9.10"
  },
  "orig_nbformat": 4
 },
 "nbformat": 4,
 "nbformat_minor": 2
}
