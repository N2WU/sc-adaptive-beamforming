{
 "cells": [
  {
   "cell_type": "code",
   "execution_count": 1,
   "metadata": {},
   "outputs": [
    {
     "name": "stdout",
     "output_type": "stream",
     "text": [
      "SNR=-10dB\n"
     ]
    },
    {
     "name": "stderr",
     "output_type": "stream",
     "text": [
      "100%|██████████| 1/1 [00:00<00:00,  1.58it/s]\n"
     ]
    },
    {
     "name": "stdout",
     "output_type": "stream",
     "text": [
      "SNR=-9dB\n"
     ]
    },
    {
     "name": "stderr",
     "output_type": "stream",
     "text": [
      "100%|██████████| 1/1 [00:00<00:00,  1.34it/s]\n"
     ]
    },
    {
     "name": "stdout",
     "output_type": "stream",
     "text": [
      "SNR=-8dB\n"
     ]
    },
    {
     "name": "stderr",
     "output_type": "stream",
     "text": [
      "100%|██████████| 1/1 [00:00<00:00,  1.50it/s]\n"
     ]
    },
    {
     "name": "stdout",
     "output_type": "stream",
     "text": [
      "SNR=-7dB\n"
     ]
    },
    {
     "name": "stderr",
     "output_type": "stream",
     "text": [
      "100%|██████████| 1/1 [00:00<00:00,  1.57it/s]\n"
     ]
    },
    {
     "name": "stdout",
     "output_type": "stream",
     "text": [
      "SNR=-6dB\n"
     ]
    },
    {
     "name": "stderr",
     "output_type": "stream",
     "text": [
      "100%|██████████| 1/1 [00:00<00:00,  1.54it/s]\n"
     ]
    },
    {
     "name": "stdout",
     "output_type": "stream",
     "text": [
      "SNR=-5dB\n"
     ]
    },
    {
     "name": "stderr",
     "output_type": "stream",
     "text": [
      "100%|██████████| 1/1 [00:00<00:00,  1.55it/s]\n"
     ]
    },
    {
     "name": "stdout",
     "output_type": "stream",
     "text": [
      "SNR=-4dB\n"
     ]
    },
    {
     "name": "stderr",
     "output_type": "stream",
     "text": [
      "100%|██████████| 1/1 [00:00<00:00,  1.56it/s]\n"
     ]
    },
    {
     "name": "stdout",
     "output_type": "stream",
     "text": [
      "SNR=-3dB\n"
     ]
    },
    {
     "name": "stderr",
     "output_type": "stream",
     "text": [
      "100%|██████████| 1/1 [00:00<00:00,  1.52it/s]\n"
     ]
    },
    {
     "name": "stdout",
     "output_type": "stream",
     "text": [
      "SNR=-2dB\n"
     ]
    },
    {
     "name": "stderr",
     "output_type": "stream",
     "text": [
      "100%|██████████| 1/1 [00:00<00:00,  1.51it/s]\n"
     ]
    },
    {
     "name": "stdout",
     "output_type": "stream",
     "text": [
      "SNR=-1dB\n"
     ]
    },
    {
     "name": "stderr",
     "output_type": "stream",
     "text": [
      "100%|██████████| 1/1 [00:00<00:00,  1.35it/s]\n"
     ]
    },
    {
     "name": "stdout",
     "output_type": "stream",
     "text": [
      "[0.08333333 0.08333333 0.08333333 0.08333333 0.08333333 0.08333333\n",
      " 0.08333333 0.08333333 0.08333333 0.08333333 0.08333333 0.08333333]\n",
      "SNR=-10dB\n"
     ]
    },
    {
     "name": "stderr",
     "output_type": "stream",
     "text": [
      "100%|██████████| 1/1 [00:00<00:00,  1.04it/s]\n"
     ]
    },
    {
     "name": "stdout",
     "output_type": "stream",
     "text": [
      "SNR=-9dB\n"
     ]
    },
    {
     "name": "stderr",
     "output_type": "stream",
     "text": [
      "100%|██████████| 1/1 [00:01<00:00,  1.14s/it]\n"
     ]
    },
    {
     "name": "stdout",
     "output_type": "stream",
     "text": [
      "SNR=-8dB\n"
     ]
    },
    {
     "name": "stderr",
     "output_type": "stream",
     "text": [
      "100%|██████████| 1/1 [00:01<00:00,  1.36s/it]\n"
     ]
    },
    {
     "name": "stdout",
     "output_type": "stream",
     "text": [
      "SNR=-7dB\n"
     ]
    },
    {
     "name": "stderr",
     "output_type": "stream",
     "text": [
      "100%|██████████| 1/1 [00:01<00:00,  1.26s/it]\n"
     ]
    },
    {
     "name": "stdout",
     "output_type": "stream",
     "text": [
      "SNR=-6dB\n"
     ]
    },
    {
     "name": "stderr",
     "output_type": "stream",
     "text": [
      "100%|██████████| 1/1 [00:01<00:00,  1.16s/it]\n"
     ]
    },
    {
     "name": "stdout",
     "output_type": "stream",
     "text": [
      "SNR=-5dB\n"
     ]
    },
    {
     "name": "stderr",
     "output_type": "stream",
     "text": [
      "100%|██████████| 1/1 [00:01<00:00,  1.62s/it]\n"
     ]
    },
    {
     "name": "stdout",
     "output_type": "stream",
     "text": [
      "SNR=-4dB\n"
     ]
    },
    {
     "name": "stderr",
     "output_type": "stream",
     "text": [
      "100%|██████████| 1/1 [00:01<00:00,  1.16s/it]\n"
     ]
    },
    {
     "name": "stdout",
     "output_type": "stream",
     "text": [
      "SNR=-3dB\n"
     ]
    },
    {
     "name": "stderr",
     "output_type": "stream",
     "text": [
      "100%|██████████| 1/1 [00:01<00:00,  1.63s/it]\n"
     ]
    },
    {
     "name": "stdout",
     "output_type": "stream",
     "text": [
      "SNR=-2dB\n"
     ]
    },
    {
     "name": "stderr",
     "output_type": "stream",
     "text": [
      "100%|██████████| 1/1 [00:01<00:00,  1.54s/it]\n"
     ]
    },
    {
     "name": "stdout",
     "output_type": "stream",
     "text": [
      "SNR=-1dB\n"
     ]
    },
    {
     "name": "stderr",
     "output_type": "stream",
     "text": [
      "100%|██████████| 1/1 [00:01<00:00,  1.16s/it]\n"
     ]
    },
    {
     "data": {
      "image/png": "[encoded data removed]",
      "text/plain": [
       "<Figure size 640x480 with 1 Axes>"
      ]
     },
     "metadata": {},
     "output_type": "display_data"
    },
    {
     "data": {
      "text/plain": [
       "'\\nfig,ax = plt.subplots()\\nax.scatter(np.real(symbolset_no_bf), np.imag(symbolset_no_bf), c=\\'r\\', marker=\\'x\\')\\nax.scatter(np.real(symbolset_bf), np.imag(symbolset_bf), c=\\'g\\', marker=\\'x\\')\\nax.scatter(np.real(true_sym), np.imag(true_sym), c=\\'b\\',marker=\\'o\\')\\nax.legend([\\'RX DL, no BF\\', \\'RX DL, BF\\',\\'16QAM Constellation Points\\'])\\nax.set_ylim(-4, 4)\\nax.set_xlim(-4,4)\\nax.set_title(\"Constellation Diagram for SNR=15dB\")\\nplt.show()\\n'"
      ]
     },
     "execution_count": 1,
     "metadata": {},
     "output_type": "execute_result"
    }
   ],
   "source": [
    "from bf_multichannel import bf_multichannel\n",
    "from tx_gnb_sim import tx_gnb_sim\n",
    "import numpy as np\n",
    "import matplotlib.pyplot as plt\n",
    "\n",
    "\n",
    "# fc = 6.5kHz\n",
    "n_UE = 1 # 2\n",
    "# n_path = 2?\n",
    "My_bf = bf_multichannel(6.5e3, 2, 1,n_UE)\n",
    "# rx at (0,0)\n",
    "# tx_1 at (5,5) and (7.5,5) with a wall at x=10\n",
    "# after relection, tx_2 at (15,5) and (12.5,5)\n",
    "My_bf.reflection_list = np.array([1,0.5])\n",
    "My_bf.x_tx_list = np.array([5,15])\n",
    "My_bf.y_tx_list = np.array([5,5])\n",
    "#My_bf.reflection_list = np.array([1,0.5]) # what does reflection_list accomplish?\n",
    "#My_bf.x_tx_list = np.array([5,15,7.5,12.5])\n",
    "#My_bf.y_tx_list = np.array([5,5,5,5])\n",
    "\n",
    "# rethink with this math\n",
    "\n",
    "theta_bf = -1.2\n",
    "\n",
    "My_ue_nobf = tx_gnb_sim(6.5e3, 1, 1, theta=180+45, apply_bf=False)\n",
    "# do not assume independence\n",
    "My_ue_nobf.reflection_list = np.array([1,0.5]) # this shouldn't play a part\n",
    "#My_ue.x_tx_list = np.array([5,15]) #shouldn't need to touch gnb location\n",
    "#My_ue.y_tx_list = np.array([5,5]) #shouldn't need to touch gnb location\n",
    "My_ue_nobf.x_rx_list = My_bf.x_tx_list\n",
    "My_ue_nobf.y_rx_list = My_bf.y_tx_list\n",
    "My_ue_nobf.simulation()\n",
    "mse_no_bf = My_ue_nobf.mean_mse\n",
    "print(My_ue_nobf.steering_vec)\n",
    "symbolset_no_bf = My_ue_nobf.mean_symbols[-1,:]\n",
    "\n",
    "true_sym = np.reshape(np.tile(np.arange(-3,4,2),4),(4,4)) + 1j*np.reshape(np.repeat(np.arange(3,-4,-2),4),(4,4))\n",
    "My_ue = tx_gnb_sim(6.5e3, 1, 1, theta=np.deg2rad(theta_bf+115), apply_bf=True) #mystical offset\n",
    "My_ue.simulation()\n",
    "symbolset_bf = My_ue.mean_symbols[-1,:]\n",
    "mse_bf =  My_ue.mean_mse\n",
    "for i_UE in range(0,n_UE):\n",
    "    plt.figure(i_UE)\n",
    "    plt.plot(My_ue_nobf.snr_list, mse_no_bf[:,i_UE], 'x')\n",
    "    plt.plot(My_ue.snr_list, mse_bf[:,i_UE], 'x')\n",
    "    plt.legend(['MSE, No BF', 'Error, BF'])\n",
    "    plt.xlabel('SNR (dB)')\n",
    "    plt.ylabel('MSE (dB)')\n",
    "    plt.title(f'fc={My_bf.fc/1000:.1f}kHz, UE_ID={i_UE}')\n",
    "plt.show()\n",
    "\n",
    "\"\"\"\n",
    "fig,ax = plt.subplots()\n",
    "ax.scatter(np.real(symbolset_no_bf), np.imag(symbolset_no_bf), c='r', marker='x')\n",
    "ax.scatter(np.real(symbolset_bf), np.imag(symbolset_bf), c='g', marker='x')\n",
    "ax.scatter(np.real(true_sym), np.imag(true_sym), c='b',marker='o')\n",
    "ax.legend(['RX DL, no BF', 'RX DL, BF','16QAM Constellation Points'])\n",
    "ax.set_ylim(-4, 4)\n",
    "ax.set_xlim(-4,4)\n",
    "ax.set_title(\"Constellation Diagram for SNR=15dB\")\n",
    "plt.show()\n",
    "\"\"\""
   ]
  }
 ],
 "metadata": {
  "kernelspec": {
   "display_name": "base",
   "language": "python",
   "name": "python3"
  },
  "language_info": {
   "codemirror_mode": {
    "name": "ipython",
    "version": 3
   },
   "file_extension": ".py",
   "mimetype": "text/x-python",
   "name": "python",
   "nbconvert_exporter": "python",
   "pygments_lexer": "ipython3",
   "version": "3.9.10"
  },
  "orig_nbformat": 4
 },
 "nbformat": 4,
 "nbformat_minor": 2
}
